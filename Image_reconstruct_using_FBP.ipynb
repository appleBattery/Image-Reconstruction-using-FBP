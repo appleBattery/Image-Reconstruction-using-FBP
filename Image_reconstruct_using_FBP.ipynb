{
  "nbformat": 4,
  "nbformat_minor": 0,
  "metadata": {
    "colab": {
      "name": "Image reconstruct using FBP.ipynb",
      "provenance": [],
      "collapsed_sections": [
        "Z7xBf2pciD2m"
      ],
      "authorship_tag": "ABX9TyPBBCmqA8lrfwpAfJmGSiNF",
      "include_colab_link": true
    },
    "kernelspec": {
      "name": "python3",
      "display_name": "Python 3"
    }
  },
  "cells": [
    {
      "cell_type": "markdown",
      "metadata": {
        "id": "view-in-github",
        "colab_type": "text"
      },
      "source": [
        "<a href=\"https://colab.research.google.com/github/appleBattery/Image-Reconstruction-using-FBP/blob/main/Image_reconstruct_using_FBP.ipynb\" target=\"_parent\"><img src=\"https://colab.research.google.com/assets/colab-badge.svg\" alt=\"Open In Colab\"/></a>"
      ]
    },
    {
      "cell_type": "markdown",
      "metadata": {
        "id": "Z7xBf2pciD2m"
      },
      "source": [
        "### Imports and dependencies"
      ]
    },
    {
      "cell_type": "code",
      "metadata": {
        "id": "vokLLZqDhVOa",
        "outputId": "8f3104b1-e40d-4525-948a-71ccef23587b",
        "colab": {
          "base_uri": "https://localhost:8080/",
          "height": 34
        }
      },
      "source": [
        "from google.colab import drive\n",
        "drive.mount('/content/drive')"
      ],
      "execution_count": null,
      "outputs": [
        {
          "output_type": "stream",
          "text": [
            "Mounted at /content/drive\n"
          ],
          "name": "stdout"
        }
      ]
    },
    {
      "cell_type": "code",
      "metadata": {
        "id": "lxqqBZNXhfOG"
      },
      "source": [
        "import numpy as np\n",
        "from math import ceil\n",
        "import matplotlib.pyplot as plt\n",
        "from skimage import io # scikit image has important image processing tools\n",
        "from skimage.util import img_as_ubyte, invert\n",
        "from skimage.transform import rotate, rescale"
      ],
      "execution_count": null,
      "outputs": []
    },
    {
      "cell_type": "markdown",
      "metadata": {
        "id": "RasGn24Ph0ln"
      },
      "source": [
        "### All the required Methods"
      ]
    },
    {
      "cell_type": "code",
      "metadata": {
        "id": "T8zE-XJghsJn"
      },
      "source": [
        "def project_1D(im):\n",
        "  'This method returns the average intensities of all the columns of any 2d image (im)'\n",
        "  p = np.sum(im,axis=0)\n",
        "  n = im.shape[0]\n",
        "  p = p/n\n",
        "  return p\n",
        "\n",
        "def get_sinogram(IM,n_theta=90,delta_r=1):\n",
        "  '''This method returns the required sinogram from any 2d image \n",
        "  with user-defined coarseness of distance co-ordinate (delta_r) and \n",
        "  the total number of angles (n_theta) to consider for profile capture\n",
        "  from 0 to 180 degrees.'''\n",
        "\n",
        "  theta = np.linspace(0.,180.,n_theta)\n",
        "  n_r = ceil(IM.shape[1]/delta_r)\n",
        "  sinogram = np.zeros((n_theta,n_r))\n",
        "  for i in range(n_theta):\n",
        "    img = rotate(IM, theta[i],preserve_range=True)\n",
        "    tmp = project_1D(img)\n",
        "    sinogram[i,:] = tmp[::delta_r]\n",
        "  return sinogram\n",
        "\n",
        "def get_backprojection(sino):\n",
        "  '''This method returns the backprojected image reconstructed \n",
        "  from the input sinogram (sino)'''\n",
        "\n",
        "  IM_out = np.zeros((sino.shape[1],sino.shape[1]))\n",
        "  n_theta = sino.shape[0]\n",
        "  theta = np.linspace(0.,180.,n_theta)\n",
        "  \n",
        "  for i in range(n_theta):\n",
        "    tmp = np.zeros((sino.shape[1],sino.shape[1])) + sino[i,:]\n",
        "    IM_out = IM_out + rotate(tmp, -theta[i],preserve_range=True)\n",
        "\n",
        "  return IM_out\n",
        "\n",
        "def apply_dft(profile):\n",
        "  '''Returns the 1D direct fourier transform of the input profile\n",
        "  and also the frequency co-ordinates of the fourier transform'''\n",
        "  \n",
        "  N = len(profile)\n",
        "  k = np.fft.rfftfreq(N)\n",
        "  \n",
        "  out = np.fft.rfft(profile)\n",
        "  return (out,k)\n",
        "\n",
        "def apply_filter(fft_profile,k,filter_name = 'ramp',cutoff_factor = 1):\n",
        "  '''Returns the 1D filtered profile of the input fourier transformed profile\n",
        "  by applying either ramp or shepp-logan filter on the profile.\n",
        "\n",
        "  k = frequency coordinates of the input fourier transformed profile\n",
        "  cutoff_factor = value between 0 to 1.\n",
        "  \n",
        "  A cutoff can be applied on the maximum value of the frequency coordinates'''\n",
        "\n",
        "  k_cutoff = cutoff_factor*abs(np.amax(k))\n",
        "  k[k>k_cutoff] = 0\n",
        "\n",
        "  if filter_name =='ramp':\n",
        "    filtered_profile = np.absolute(k)*fft_profile\n",
        "\n",
        "  if filter_name =='shepp-logan':\n",
        "    filtered_profile = (2*k_cutoff)/(np.pi) * np.sin((np.absolute(k)*np.pi)/(2*k_cutoff)) * fft_profile\n",
        "\n",
        "  return filtered_profile\n",
        "\n",
        "def apply_idft(profile):\n",
        "  filtered_profile = np.real(np.fft.irfft(profile))\n",
        "  \n",
        "  return filtered_profile\n",
        "\n",
        "def get_filtered_sinogram(sino,filter_name = 'ramp',cutoff_factor = 1):\n",
        "  '''Returns the final reconstructed image by first applying fourier \n",
        "  transform on the input sinogram, filtering it and taking inverse fourier \n",
        "  of the sinogram. Then, backprojection is applied on the filtered sinogram\n",
        "  to obtain the final reconstructed image.'''\n",
        "\n",
        "  filtered_sino = np.zeros(sino.shape); N = sino.shape[1]\n",
        "  tmp = np.zeros((1,N))\n",
        "  if (N%2)==0:  # Quirk of fft method; odd and even profiles gives ifft profile of different lengths\n",
        "    for i in range(sino.shape[0]):\n",
        "      tmp, k = apply_dft(sino[i,:])\n",
        "      tmp = apply_filter(tmp,k,filter_name,cutoff_factor)\n",
        "      filtered_sino[i,:] = apply_idft(tmp)\n",
        "  else:\n",
        "    for i in range(sino.shape[0]):\n",
        "      tmp, k = apply_dft(sino[i,:])\n",
        "      tmp = apply_filter(tmp,k,filter_name,cutoff_factor)\n",
        "      filtered_sino[i,:-1] = apply_idft(tmp)\n",
        "\n",
        "  return filtered_sino"
      ],
      "execution_count": null,
      "outputs": []
    },
    {
      "cell_type": "markdown",
      "metadata": {
        "id": "weZ7StoEh_uo"
      },
      "source": [
        "### main.py"
      ]
    },
    {
      "cell_type": "code",
      "metadata": {
        "id": "ZviGGoR2hna0"
      },
      "source": [
        "data_path = '/content/drive/My Drive/Image reconstruction using FBP/Code/data/'\n",
        "img_name = 'OOoo.JPG'\n",
        "image = invert(io.imread((data_path + img_name),True))\n",
        "image = img_as_ubyte(rescale(image, scale=0.25, mode='reflect', multichannel=False))"
      ],
      "execution_count": null,
      "outputs": []
    },
    {
      "cell_type": "code",
      "metadata": {
        "id": "MD38yPh2hrb9",
        "outputId": "5539707d-4105-490c-83f7-30cac50f63d6",
        "colab": {
          "base_uri": "https://localhost:8080/",
          "height": 286
        }
      },
      "source": [
        "n_theta = 256; delta_r = 1; filter = 'ramp'; cutoff = 0.4\n",
        "sinogram = get_sinogram(image,n_theta,delta_r)\n",
        "filtered_sinogram = get_filtered_sinogram(sinogram,filter_name = filter,cutoff_factor = cutoff)\n",
        "out = get_backprojection(filtered_sinogram)\n",
        "plt.imshow(out,cmap=plt.cm.Greys_r)"
      ],
      "execution_count": null,
      "outputs": [
        {
          "output_type": "execute_result",
          "data": {
            "text/plain": [
              "<matplotlib.image.AxesImage at 0x7f2c75905390>"
            ]
          },
          "metadata": {
            "tags": []
          },
          "execution_count": 18
        },
        {
          "output_type": "display_data",
          "data": {
            "image/png": "[encoded data removed]",
            "text/plain": [
              "<Figure size 432x288 with 1 Axes>"
            ]
          },
          "metadata": {
            "tags": [],
            "needs_background": "light"
          }
        }
      ]
    },
    {
      "cell_type": "code",
      "metadata": {
        "id": "TWhKaxppjO-_"
      },
      "source": [
        ""
      ],
      "execution_count": null,
      "outputs": []
    }
  ]
}